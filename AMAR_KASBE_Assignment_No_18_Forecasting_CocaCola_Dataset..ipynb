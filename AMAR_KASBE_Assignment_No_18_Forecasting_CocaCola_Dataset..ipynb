{
 "cells": [
  {
   "cell_type": "markdown",
   "id": "06f897d9",
   "metadata": {},
   "source": [
    "# <font color=darkbrown> FORECASTING ASSIGNMENT. </font><br>\n",
    "## <font color=red> PROBLEM STATEMENT. </font>\n",
    "#### Forecast the CocaCola prices.<br>Prepare a document for each model.<br>Explaining, how many dummy variables you have created and RMSE value for each model.<br><Br>Finally which model you will use for Forecasting.<br>\n"
   ]
  },
  {
   "cell_type": "markdown",
   "id": "7c3fcd94",
   "metadata": {},
   "source": [
    "# <font color= red> EDA AND VISUALIZATION."
   ]
  },
  {
   "cell_type": "code",
   "execution_count": 27,
   "id": "31b1f3ac",
   "metadata": {},
   "outputs": [],
   "source": [
    "import pandas as pd\n",
    "import numpy as np\n",
    "import seaborn as sns\n",
    "import matplotlib.pyplot as plt\n",
    "import warnings\n",
    "warnings.filterwarnings('ignore')"
   ]
  },
  {
   "cell_type": "code",
   "execution_count": 28,
   "id": "2d594dca",
   "metadata": {},
   "outputs": [
    {
     "data": {
      "text/html": [
       "<div>\n",
       "<style scoped>\n",
       "    .dataframe tbody tr th:only-of-type {\n",
       "        vertical-align: middle;\n",
       "    }\n",
       "\n",
       "    .dataframe tbody tr th {\n",
       "        vertical-align: top;\n",
       "    }\n",
       "\n",
       "    .dataframe thead th {\n",
       "        text-align: right;\n",
       "    }\n",
       "</style>\n",
       "<table border=\"1\" class=\"dataframe\">\n",
       "  <thead>\n",
       "    <tr style=\"text-align: right;\">\n",
       "      <th></th>\n",
       "      <th>Quarter</th>\n",
       "      <th>Sales</th>\n",
       "    </tr>\n",
       "  </thead>\n",
       "  <tbody>\n",
       "    <tr>\n",
       "      <th>0</th>\n",
       "      <td>Q1_86</td>\n",
       "      <td>1734.827000</td>\n",
       "    </tr>\n",
       "    <tr>\n",
       "      <th>1</th>\n",
       "      <td>Q2_86</td>\n",
       "      <td>2244.960999</td>\n",
       "    </tr>\n",
       "    <tr>\n",
       "      <th>2</th>\n",
       "      <td>Q3_86</td>\n",
       "      <td>2533.804993</td>\n",
       "    </tr>\n",
       "    <tr>\n",
       "      <th>3</th>\n",
       "      <td>Q4_86</td>\n",
       "      <td>2154.962997</td>\n",
       "    </tr>\n",
       "    <tr>\n",
       "      <th>4</th>\n",
       "      <td>Q1_87</td>\n",
       "      <td>1547.818996</td>\n",
       "    </tr>\n",
       "    <tr>\n",
       "      <th>5</th>\n",
       "      <td>Q2_87</td>\n",
       "      <td>2104.411995</td>\n",
       "    </tr>\n",
       "    <tr>\n",
       "      <th>6</th>\n",
       "      <td>Q3_87</td>\n",
       "      <td>2014.362999</td>\n",
       "    </tr>\n",
       "    <tr>\n",
       "      <th>7</th>\n",
       "      <td>Q4_87</td>\n",
       "      <td>1991.746998</td>\n",
       "    </tr>\n",
       "    <tr>\n",
       "      <th>8</th>\n",
       "      <td>Q1_88</td>\n",
       "      <td>1869.049999</td>\n",
       "    </tr>\n",
       "    <tr>\n",
       "      <th>9</th>\n",
       "      <td>Q2_88</td>\n",
       "      <td>2313.631996</td>\n",
       "    </tr>\n",
       "    <tr>\n",
       "      <th>10</th>\n",
       "      <td>Q3_88</td>\n",
       "      <td>2128.320000</td>\n",
       "    </tr>\n",
       "    <tr>\n",
       "      <th>11</th>\n",
       "      <td>Q4_88</td>\n",
       "      <td>2026.828999</td>\n",
       "    </tr>\n",
       "    <tr>\n",
       "      <th>12</th>\n",
       "      <td>Q1_89</td>\n",
       "      <td>1910.603996</td>\n",
       "    </tr>\n",
       "    <tr>\n",
       "      <th>13</th>\n",
       "      <td>Q2_89</td>\n",
       "      <td>2331.164993</td>\n",
       "    </tr>\n",
       "    <tr>\n",
       "      <th>14</th>\n",
       "      <td>Q3_89</td>\n",
       "      <td>2206.549995</td>\n",
       "    </tr>\n",
       "    <tr>\n",
       "      <th>15</th>\n",
       "      <td>Q4_89</td>\n",
       "      <td>2173.967995</td>\n",
       "    </tr>\n",
       "    <tr>\n",
       "      <th>16</th>\n",
       "      <td>Q1_90</td>\n",
       "      <td>2148.278000</td>\n",
       "    </tr>\n",
       "    <tr>\n",
       "      <th>17</th>\n",
       "      <td>Q2_90</td>\n",
       "      <td>2739.307999</td>\n",
       "    </tr>\n",
       "    <tr>\n",
       "      <th>18</th>\n",
       "      <td>Q3_90</td>\n",
       "      <td>2792.753998</td>\n",
       "    </tr>\n",
       "    <tr>\n",
       "      <th>19</th>\n",
       "      <td>Q4_90</td>\n",
       "      <td>2556.009995</td>\n",
       "    </tr>\n",
       "    <tr>\n",
       "      <th>20</th>\n",
       "      <td>Q1_91</td>\n",
       "      <td>2480.973999</td>\n",
       "    </tr>\n",
       "    <tr>\n",
       "      <th>21</th>\n",
       "      <td>Q2_91</td>\n",
       "      <td>3039.522995</td>\n",
       "    </tr>\n",
       "    <tr>\n",
       "      <th>22</th>\n",
       "      <td>Q3_91</td>\n",
       "      <td>3172.115997</td>\n",
       "    </tr>\n",
       "    <tr>\n",
       "      <th>23</th>\n",
       "      <td>Q4_91</td>\n",
       "      <td>2879.000999</td>\n",
       "    </tr>\n",
       "    <tr>\n",
       "      <th>24</th>\n",
       "      <td>Q1_92</td>\n",
       "      <td>2772.000000</td>\n",
       "    </tr>\n",
       "    <tr>\n",
       "      <th>25</th>\n",
       "      <td>Q2_92</td>\n",
       "      <td>3550.000000</td>\n",
       "    </tr>\n",
       "    <tr>\n",
       "      <th>26</th>\n",
       "      <td>Q3_92</td>\n",
       "      <td>3508.000000</td>\n",
       "    </tr>\n",
       "    <tr>\n",
       "      <th>27</th>\n",
       "      <td>Q4_92</td>\n",
       "      <td>3243.859993</td>\n",
       "    </tr>\n",
       "    <tr>\n",
       "      <th>28</th>\n",
       "      <td>Q1_93</td>\n",
       "      <td>3056.000000</td>\n",
       "    </tr>\n",
       "    <tr>\n",
       "      <th>29</th>\n",
       "      <td>Q2_93</td>\n",
       "      <td>3899.000000</td>\n",
       "    </tr>\n",
       "    <tr>\n",
       "      <th>30</th>\n",
       "      <td>Q3_93</td>\n",
       "      <td>3629.000000</td>\n",
       "    </tr>\n",
       "    <tr>\n",
       "      <th>31</th>\n",
       "      <td>Q4_93</td>\n",
       "      <td>3373.000000</td>\n",
       "    </tr>\n",
       "    <tr>\n",
       "      <th>32</th>\n",
       "      <td>Q1_94</td>\n",
       "      <td>3352.000000</td>\n",
       "    </tr>\n",
       "    <tr>\n",
       "      <th>33</th>\n",
       "      <td>Q2_94</td>\n",
       "      <td>4342.000000</td>\n",
       "    </tr>\n",
       "    <tr>\n",
       "      <th>34</th>\n",
       "      <td>Q3_94</td>\n",
       "      <td>4461.000000</td>\n",
       "    </tr>\n",
       "    <tr>\n",
       "      <th>35</th>\n",
       "      <td>Q4_94</td>\n",
       "      <td>4017.000000</td>\n",
       "    </tr>\n",
       "    <tr>\n",
       "      <th>36</th>\n",
       "      <td>Q1_95</td>\n",
       "      <td>3854.000000</td>\n",
       "    </tr>\n",
       "    <tr>\n",
       "      <th>37</th>\n",
       "      <td>Q2_95</td>\n",
       "      <td>4936.000000</td>\n",
       "    </tr>\n",
       "    <tr>\n",
       "      <th>38</th>\n",
       "      <td>Q3_95</td>\n",
       "      <td>4895.000000</td>\n",
       "    </tr>\n",
       "    <tr>\n",
       "      <th>39</th>\n",
       "      <td>Q4_95</td>\n",
       "      <td>4333.000000</td>\n",
       "    </tr>\n",
       "    <tr>\n",
       "      <th>40</th>\n",
       "      <td>Q1_96</td>\n",
       "      <td>4194.000000</td>\n",
       "    </tr>\n",
       "    <tr>\n",
       "      <th>41</th>\n",
       "      <td>Q2_96</td>\n",
       "      <td>5253.000000</td>\n",
       "    </tr>\n",
       "  </tbody>\n",
       "</table>\n",
       "</div>"
      ],
      "text/plain": [
       "   Quarter        Sales\n",
       "0    Q1_86  1734.827000\n",
       "1    Q2_86  2244.960999\n",
       "2    Q3_86  2533.804993\n",
       "3    Q4_86  2154.962997\n",
       "4    Q1_87  1547.818996\n",
       "5    Q2_87  2104.411995\n",
       "6    Q3_87  2014.362999\n",
       "7    Q4_87  1991.746998\n",
       "8    Q1_88  1869.049999\n",
       "9    Q2_88  2313.631996\n",
       "10   Q3_88  2128.320000\n",
       "11   Q4_88  2026.828999\n",
       "12   Q1_89  1910.603996\n",
       "13   Q2_89  2331.164993\n",
       "14   Q3_89  2206.549995\n",
       "15   Q4_89  2173.967995\n",
       "16   Q1_90  2148.278000\n",
       "17   Q2_90  2739.307999\n",
       "18   Q3_90  2792.753998\n",
       "19   Q4_90  2556.009995\n",
       "20   Q1_91  2480.973999\n",
       "21   Q2_91  3039.522995\n",
       "22   Q3_91  3172.115997\n",
       "23   Q4_91  2879.000999\n",
       "24   Q1_92  2772.000000\n",
       "25   Q2_92  3550.000000\n",
       "26   Q3_92  3508.000000\n",
       "27   Q4_92  3243.859993\n",
       "28   Q1_93  3056.000000\n",
       "29   Q2_93  3899.000000\n",
       "30   Q3_93  3629.000000\n",
       "31   Q4_93  3373.000000\n",
       "32   Q1_94  3352.000000\n",
       "33   Q2_94  4342.000000\n",
       "34   Q3_94  4461.000000\n",
       "35   Q4_94  4017.000000\n",
       "36   Q1_95  3854.000000\n",
       "37   Q2_95  4936.000000\n",
       "38   Q3_95  4895.000000\n",
       "39   Q4_95  4333.000000\n",
       "40   Q1_96  4194.000000\n",
       "41   Q2_96  5253.000000"
      ]
     },
     "execution_count": 28,
     "metadata": {},
     "output_type": "execute_result"
    }
   ],
   "source": [
    "forecast = pd.read_excel('CocaCola_Sales_Rawdata.xlsx')\n",
    "forecast"
   ]
  },
  {
   "cell_type": "code",
   "execution_count": 29,
   "id": "dfdcb7de",
   "metadata": {},
   "outputs": [
    {
     "data": {
      "text/html": [
       "<div>\n",
       "<style scoped>\n",
       "    .dataframe tbody tr th:only-of-type {\n",
       "        vertical-align: middle;\n",
       "    }\n",
       "\n",
       "    .dataframe tbody tr th {\n",
       "        vertical-align: top;\n",
       "    }\n",
       "\n",
       "    .dataframe thead th {\n",
       "        text-align: right;\n",
       "    }\n",
       "</style>\n",
       "<table border=\"1\" class=\"dataframe\">\n",
       "  <thead>\n",
       "    <tr style=\"text-align: right;\">\n",
       "      <th></th>\n",
       "      <th>Sales</th>\n",
       "    </tr>\n",
       "  </thead>\n",
       "  <tbody>\n",
       "    <tr>\n",
       "      <th>count</th>\n",
       "      <td>42.000000</td>\n",
       "    </tr>\n",
       "    <tr>\n",
       "      <th>mean</th>\n",
       "      <td>2994.353308</td>\n",
       "    </tr>\n",
       "    <tr>\n",
       "      <th>std</th>\n",
       "      <td>977.930896</td>\n",
       "    </tr>\n",
       "    <tr>\n",
       "      <th>min</th>\n",
       "      <td>1547.818996</td>\n",
       "    </tr>\n",
       "    <tr>\n",
       "      <th>25%</th>\n",
       "      <td>2159.714247</td>\n",
       "    </tr>\n",
       "    <tr>\n",
       "      <th>50%</th>\n",
       "      <td>2782.376999</td>\n",
       "    </tr>\n",
       "    <tr>\n",
       "      <th>75%</th>\n",
       "      <td>3609.250000</td>\n",
       "    </tr>\n",
       "    <tr>\n",
       "      <th>max</th>\n",
       "      <td>5253.000000</td>\n",
       "    </tr>\n",
       "  </tbody>\n",
       "</table>\n",
       "</div>"
      ],
      "text/plain": [
       "             Sales\n",
       "count    42.000000\n",
       "mean   2994.353308\n",
       "std     977.930896\n",
       "min    1547.818996\n",
       "25%    2159.714247\n",
       "50%    2782.376999\n",
       "75%    3609.250000\n",
       "max    5253.000000"
      ]
     },
     "execution_count": 29,
     "metadata": {},
     "output_type": "execute_result"
    }
   ],
   "source": [
    "forecast.describe()"
   ]
  },
  {
   "cell_type": "code",
   "execution_count": 30,
   "id": "e32e3e64",
   "metadata": {},
   "outputs": [
    {
     "data": {
      "text/plain": [
       "<AxesSubplot:>"
      ]
     },
     "execution_count": 30,
     "metadata": {},
     "output_type": "execute_result"
    },
    {
     "data": {
      "image/png": "[encoded data removed]",
      "text/plain": [
       "<Figure size 432x288 with 1 Axes>"
      ]
     },
     "metadata": {},
     "output_type": "display_data"
    }
   ],
   "source": [
    "forecast.plot()"
   ]
  },
  {
   "cell_type": "code",
   "execution_count": 31,
   "id": "b92e1a34",
   "metadata": {},
   "outputs": [
    {
     "data": {
      "text/plain": [
       "<AxesSubplot:>"
      ]
     },
     "execution_count": 31,
     "metadata": {},
     "output_type": "execute_result"
    },
    {
     "data": {
      "image/png": "[encoded data removed]",
      "text/plain": [
       "<Figure size 432x288 with 1 Axes>"
      ]
     },
     "metadata": {},
     "output_type": "display_data"
    }
   ],
   "source": [
    "import seaborn as  sns\n",
    "sns.boxplot(data = forecast)"
   ]
  },
  {
   "cell_type": "code",
   "execution_count": 32,
   "id": "1a3cc292",
   "metadata": {},
   "outputs": [
    {
     "data": {
      "text/plain": [
       "array([[<AxesSubplot:title={'center':'Sales'}>]], dtype=object)"
      ]
     },
     "execution_count": 32,
     "metadata": {},
     "output_type": "execute_result"
    },
    {
     "data": {
      "image/png": "[encoded data removed]",
      "text/plain": [
       "<Figure size 432x288 with 1 Axes>"
      ]
     },
     "metadata": {},
     "output_type": "display_data"
    }
   ],
   "source": [
    "forecast.hist()"
   ]
  },
  {
   "cell_type": "code",
   "execution_count": 33,
   "id": "e10f24e9",
   "metadata": {},
   "outputs": [
    {
     "data": {
      "text/plain": [
       "<AxesSubplot:ylabel='Density'>"
      ]
     },
     "execution_count": 33,
     "metadata": {},
     "output_type": "execute_result"
    },
    {
     "data": {
      "image/png": "[encoded data removed]",
      "text/plain": [
       "<Figure size 432x288 with 1 Axes>"
      ]
     },
     "metadata": {},
     "output_type": "display_data"
    }
   ],
   "source": [
    "forecast.plot(kind=\"kde\")"
   ]
  },
  {
   "cell_type": "code",
   "execution_count": 34,
   "id": "b156ed8e",
   "metadata": {},
   "outputs": [
    {
     "data": {
      "image/png": "[encoded data removed]",
      "text/plain": [
       "<Figure size 432x288 with 1 Axes>"
      ]
     },
     "metadata": {},
     "output_type": "display_data"
    }
   ],
   "source": [
    "import seaborn as sns\n",
    "sns.set_theme()\n",
    "rk= sns.distplot(forecast['Sales'],kde=True)"
   ]
  },
  {
   "cell_type": "code",
   "execution_count": 35,
   "id": "78b6c821",
   "metadata": {},
   "outputs": [
    {
     "name": "stderr",
     "output_type": "stream",
     "text": [
      "*c* argument looks like a single numeric RGB or RGBA sequence, which should be avoided as value-mapping will have precedence in case its length matches with *x* & *y*.  Please use the *color* keyword-argument or provide a 2D array with a single row if you intend to specify the same RGB or RGBA value for all points.\n"
     ]
    },
    {
     "data": {
      "text/plain": [
       "<AxesSubplot:xlabel='y(t)', ylabel='y(t + 1)'>"
      ]
     },
     "execution_count": 35,
     "metadata": {},
     "output_type": "execute_result"
    },
    {
     "data": {
      "image/png": "[encoded data removed]",
      "text/plain": [
       "<Figure size 432x288 with 1 Axes>"
      ]
     },
     "metadata": {},
     "output_type": "display_data"
    }
   ],
   "source": [
    "from pandas.plotting import lag_plot\n",
    "lag_plot(forecast['Sales'])"
   ]
  },
  {
   "cell_type": "markdown",
   "id": "90e9ad53",
   "metadata": {},
   "source": [
    "# <font color= red> DATA PREPROCESSING. </font><br>\n",
    "## <font color= red> FEATURE ENGINEERING.</font>\n",
    "### Converting the Quarters into Years."
   ]
  },
  {
   "cell_type": "code",
   "execution_count": 36,
   "id": "f1bcf844",
   "metadata": {},
   "outputs": [
    {
     "data": {
      "text/html": [
       "<div>\n",
       "<style scoped>\n",
       "    .dataframe tbody tr th:only-of-type {\n",
       "        vertical-align: middle;\n",
       "    }\n",
       "\n",
       "    .dataframe tbody tr th {\n",
       "        vertical-align: top;\n",
       "    }\n",
       "\n",
       "    .dataframe thead th {\n",
       "        text-align: right;\n",
       "    }\n",
       "</style>\n",
       "<table border=\"1\" class=\"dataframe\">\n",
       "  <thead>\n",
       "    <tr style=\"text-align: right;\">\n",
       "      <th></th>\n",
       "      <th>Quarter</th>\n",
       "      <th>Sales</th>\n",
       "      <th>Quarter_Year</th>\n",
       "    </tr>\n",
       "  </thead>\n",
       "  <tbody>\n",
       "    <tr>\n",
       "      <th>0</th>\n",
       "      <td>Q1_86</td>\n",
       "      <td>1734.827000</td>\n",
       "      <td>Q1 1986</td>\n",
       "    </tr>\n",
       "    <tr>\n",
       "      <th>1</th>\n",
       "      <td>Q2_86</td>\n",
       "      <td>2244.960999</td>\n",
       "      <td>Q2 1986</td>\n",
       "    </tr>\n",
       "    <tr>\n",
       "      <th>2</th>\n",
       "      <td>Q3_86</td>\n",
       "      <td>2533.804993</td>\n",
       "      <td>Q3 1986</td>\n",
       "    </tr>\n",
       "    <tr>\n",
       "      <th>3</th>\n",
       "      <td>Q4_86</td>\n",
       "      <td>2154.962997</td>\n",
       "      <td>Q4 1986</td>\n",
       "    </tr>\n",
       "    <tr>\n",
       "      <th>4</th>\n",
       "      <td>Q1_87</td>\n",
       "      <td>1547.818996</td>\n",
       "      <td>Q1 1987</td>\n",
       "    </tr>\n",
       "    <tr>\n",
       "      <th>5</th>\n",
       "      <td>Q2_87</td>\n",
       "      <td>2104.411995</td>\n",
       "      <td>Q2 1987</td>\n",
       "    </tr>\n",
       "    <tr>\n",
       "      <th>6</th>\n",
       "      <td>Q3_87</td>\n",
       "      <td>2014.362999</td>\n",
       "      <td>Q3 1987</td>\n",
       "    </tr>\n",
       "    <tr>\n",
       "      <th>7</th>\n",
       "      <td>Q4_87</td>\n",
       "      <td>1991.746998</td>\n",
       "      <td>Q4 1987</td>\n",
       "    </tr>\n",
       "    <tr>\n",
       "      <th>8</th>\n",
       "      <td>Q1_88</td>\n",
       "      <td>1869.049999</td>\n",
       "      <td>Q1 1988</td>\n",
       "    </tr>\n",
       "    <tr>\n",
       "      <th>9</th>\n",
       "      <td>Q2_88</td>\n",
       "      <td>2313.631996</td>\n",
       "      <td>Q2 1988</td>\n",
       "    </tr>\n",
       "  </tbody>\n",
       "</table>\n",
       "</div>"
      ],
      "text/plain": [
       "  Quarter        Sales Quarter_Year\n",
       "0   Q1_86  1734.827000      Q1 1986\n",
       "1   Q2_86  2244.960999      Q2 1986\n",
       "2   Q3_86  2533.804993      Q3 1986\n",
       "3   Q4_86  2154.962997      Q4 1986\n",
       "4   Q1_87  1547.818996      Q1 1987\n",
       "5   Q2_87  2104.411995      Q2 1987\n",
       "6   Q3_87  2014.362999      Q3 1987\n",
       "7   Q4_87  1991.746998      Q4 1987\n",
       "8   Q1_88  1869.049999      Q1 1988\n",
       "9   Q2_88  2313.631996      Q2 1988"
      ]
     },
     "execution_count": 36,
     "metadata": {},
     "output_type": "execute_result"
    }
   ],
   "source": [
    "forecast['Quarter_Year'] = forecast['Quarter'].str.split('_').apply(lambda x: ' 19'.join(x[:]))\n",
    "#Clean way to convert quarterly periods to datetime in pandas\n",
    "forecast.head(10)"
   ]
  },
  {
   "cell_type": "markdown",
   "id": "c8337dae",
   "metadata": {},
   "source": [
    "### Now, Converting Quarter Years Into Quarter (Date Month and Year)."
   ]
  },
  {
   "cell_type": "code",
   "execution_count": 37,
   "id": "ef1e2e36",
   "metadata": {},
   "outputs": [
    {
     "data": {
      "text/html": [
       "<div>\n",
       "<style scoped>\n",
       "    .dataframe tbody tr th:only-of-type {\n",
       "        vertical-align: middle;\n",
       "    }\n",
       "\n",
       "    .dataframe tbody tr th {\n",
       "        vertical-align: top;\n",
       "    }\n",
       "\n",
       "    .dataframe thead th {\n",
       "        text-align: right;\n",
       "    }\n",
       "</style>\n",
       "<table border=\"1\" class=\"dataframe\">\n",
       "  <thead>\n",
       "    <tr style=\"text-align: right;\">\n",
       "      <th></th>\n",
       "      <th>Quarter</th>\n",
       "      <th>Sales</th>\n",
       "      <th>Quarter_Year</th>\n",
       "      <th>Date</th>\n",
       "    </tr>\n",
       "  </thead>\n",
       "  <tbody>\n",
       "    <tr>\n",
       "      <th>0</th>\n",
       "      <td>Q1_86</td>\n",
       "      <td>1734.827000</td>\n",
       "      <td>Q1 1986</td>\n",
       "      <td>1986-01-01</td>\n",
       "    </tr>\n",
       "    <tr>\n",
       "      <th>1</th>\n",
       "      <td>Q2_86</td>\n",
       "      <td>2244.960999</td>\n",
       "      <td>Q2 1986</td>\n",
       "      <td>1986-04-01</td>\n",
       "    </tr>\n",
       "    <tr>\n",
       "      <th>2</th>\n",
       "      <td>Q3_86</td>\n",
       "      <td>2533.804993</td>\n",
       "      <td>Q3 1986</td>\n",
       "      <td>1986-07-01</td>\n",
       "    </tr>\n",
       "    <tr>\n",
       "      <th>3</th>\n",
       "      <td>Q4_86</td>\n",
       "      <td>2154.962997</td>\n",
       "      <td>Q4 1986</td>\n",
       "      <td>1986-10-01</td>\n",
       "    </tr>\n",
       "    <tr>\n",
       "      <th>4</th>\n",
       "      <td>Q1_87</td>\n",
       "      <td>1547.818996</td>\n",
       "      <td>Q1 1987</td>\n",
       "      <td>1987-01-01</td>\n",
       "    </tr>\n",
       "    <tr>\n",
       "      <th>5</th>\n",
       "      <td>Q2_87</td>\n",
       "      <td>2104.411995</td>\n",
       "      <td>Q2 1987</td>\n",
       "      <td>1987-04-01</td>\n",
       "    </tr>\n",
       "    <tr>\n",
       "      <th>6</th>\n",
       "      <td>Q3_87</td>\n",
       "      <td>2014.362999</td>\n",
       "      <td>Q3 1987</td>\n",
       "      <td>1987-07-01</td>\n",
       "    </tr>\n",
       "    <tr>\n",
       "      <th>7</th>\n",
       "      <td>Q4_87</td>\n",
       "      <td>1991.746998</td>\n",
       "      <td>Q4 1987</td>\n",
       "      <td>1987-10-01</td>\n",
       "    </tr>\n",
       "    <tr>\n",
       "      <th>8</th>\n",
       "      <td>Q1_88</td>\n",
       "      <td>1869.049999</td>\n",
       "      <td>Q1 1988</td>\n",
       "      <td>1988-01-01</td>\n",
       "    </tr>\n",
       "    <tr>\n",
       "      <th>9</th>\n",
       "      <td>Q2_88</td>\n",
       "      <td>2313.631996</td>\n",
       "      <td>Q2 1988</td>\n",
       "      <td>1988-04-01</td>\n",
       "    </tr>\n",
       "  </tbody>\n",
       "</table>\n",
       "</div>"
      ],
      "text/plain": [
       "  Quarter        Sales Quarter_Year       Date\n",
       "0   Q1_86  1734.827000      Q1 1986 1986-01-01\n",
       "1   Q2_86  2244.960999      Q2 1986 1986-04-01\n",
       "2   Q3_86  2533.804993      Q3 1986 1986-07-01\n",
       "3   Q4_86  2154.962997      Q4 1986 1986-10-01\n",
       "4   Q1_87  1547.818996      Q1 1987 1987-01-01\n",
       "5   Q2_87  2104.411995      Q2 1987 1987-04-01\n",
       "6   Q3_87  2014.362999      Q3 1987 1987-07-01\n",
       "7   Q4_87  1991.746998      Q4 1987 1987-10-01\n",
       "8   Q1_88  1869.049999      Q1 1988 1988-01-01\n",
       "9   Q2_88  2313.631996      Q2 1988 1988-04-01"
      ]
     },
     "execution_count": 37,
     "metadata": {},
     "output_type": "execute_result"
    }
   ],
   "source": [
    "# converting into datetime formate as the index was not in correct formate.\n",
    "\n",
    "forecast['Date'] = (\n",
    "    pd.to_datetime(\n",
    "        forecast['Quarter_Year'].str.split(' ').apply(lambda x: ''.join(x[::-1]))\n",
    "    ,dayfirst=True))\n",
    "forecast.head(10)"
   ]
  },
  {
   "cell_type": "markdown",
   "id": "279c8682",
   "metadata": {},
   "source": [
    "### Separating Month and Year into Separate Column for Visualization."
   ]
  },
  {
   "cell_type": "code",
   "execution_count": 38,
   "id": "59d4034d",
   "metadata": {},
   "outputs": [
    {
     "data": {
      "text/html": [
       "<div>\n",
       "<style scoped>\n",
       "    .dataframe tbody tr th:only-of-type {\n",
       "        vertical-align: middle;\n",
       "    }\n",
       "\n",
       "    .dataframe tbody tr th {\n",
       "        vertical-align: top;\n",
       "    }\n",
       "\n",
       "    .dataframe thead th {\n",
       "        text-align: right;\n",
       "    }\n",
       "</style>\n",
       "<table border=\"1\" class=\"dataframe\">\n",
       "  <thead>\n",
       "    <tr style=\"text-align: right;\">\n",
       "      <th></th>\n",
       "      <th>Quarter</th>\n",
       "      <th>Sales</th>\n",
       "      <th>Quarter_Year</th>\n",
       "      <th>Date</th>\n",
       "      <th>month</th>\n",
       "      <th>year</th>\n",
       "    </tr>\n",
       "  </thead>\n",
       "  <tbody>\n",
       "    <tr>\n",
       "      <th>0</th>\n",
       "      <td>Q1_86</td>\n",
       "      <td>1734.827000</td>\n",
       "      <td>Q1 1986</td>\n",
       "      <td>1986-01-01</td>\n",
       "      <td>Jan</td>\n",
       "      <td>1986</td>\n",
       "    </tr>\n",
       "    <tr>\n",
       "      <th>1</th>\n",
       "      <td>Q2_86</td>\n",
       "      <td>2244.960999</td>\n",
       "      <td>Q2 1986</td>\n",
       "      <td>1986-04-01</td>\n",
       "      <td>Apr</td>\n",
       "      <td>1986</td>\n",
       "    </tr>\n",
       "    <tr>\n",
       "      <th>2</th>\n",
       "      <td>Q3_86</td>\n",
       "      <td>2533.804993</td>\n",
       "      <td>Q3 1986</td>\n",
       "      <td>1986-07-01</td>\n",
       "      <td>Jul</td>\n",
       "      <td>1986</td>\n",
       "    </tr>\n",
       "    <tr>\n",
       "      <th>3</th>\n",
       "      <td>Q4_86</td>\n",
       "      <td>2154.962997</td>\n",
       "      <td>Q4 1986</td>\n",
       "      <td>1986-10-01</td>\n",
       "      <td>Oct</td>\n",
       "      <td>1986</td>\n",
       "    </tr>\n",
       "    <tr>\n",
       "      <th>4</th>\n",
       "      <td>Q1_87</td>\n",
       "      <td>1547.818996</td>\n",
       "      <td>Q1 1987</td>\n",
       "      <td>1987-01-01</td>\n",
       "      <td>Jan</td>\n",
       "      <td>1987</td>\n",
       "    </tr>\n",
       "    <tr>\n",
       "      <th>5</th>\n",
       "      <td>Q2_87</td>\n",
       "      <td>2104.411995</td>\n",
       "      <td>Q2 1987</td>\n",
       "      <td>1987-04-01</td>\n",
       "      <td>Apr</td>\n",
       "      <td>1987</td>\n",
       "    </tr>\n",
       "    <tr>\n",
       "      <th>6</th>\n",
       "      <td>Q3_87</td>\n",
       "      <td>2014.362999</td>\n",
       "      <td>Q3 1987</td>\n",
       "      <td>1987-07-01</td>\n",
       "      <td>Jul</td>\n",
       "      <td>1987</td>\n",
       "    </tr>\n",
       "    <tr>\n",
       "      <th>7</th>\n",
       "      <td>Q4_87</td>\n",
       "      <td>1991.746998</td>\n",
       "      <td>Q4 1987</td>\n",
       "      <td>1987-10-01</td>\n",
       "      <td>Oct</td>\n",
       "      <td>1987</td>\n",
       "    </tr>\n",
       "    <tr>\n",
       "      <th>8</th>\n",
       "      <td>Q1_88</td>\n",
       "      <td>1869.049999</td>\n",
       "      <td>Q1 1988</td>\n",
       "      <td>1988-01-01</td>\n",
       "      <td>Jan</td>\n",
       "      <td>1988</td>\n",
       "    </tr>\n",
       "    <tr>\n",
       "      <th>9</th>\n",
       "      <td>Q2_88</td>\n",
       "      <td>2313.631996</td>\n",
       "      <td>Q2 1988</td>\n",
       "      <td>1988-04-01</td>\n",
       "      <td>Apr</td>\n",
       "      <td>1988</td>\n",
       "    </tr>\n",
       "  </tbody>\n",
       "</table>\n",
       "</div>"
      ],
      "text/plain": [
       "  Quarter        Sales Quarter_Year       Date month  year\n",
       "0   Q1_86  1734.827000      Q1 1986 1986-01-01   Jan  1986\n",
       "1   Q2_86  2244.960999      Q2 1986 1986-04-01   Apr  1986\n",
       "2   Q3_86  2533.804993      Q3 1986 1986-07-01   Jul  1986\n",
       "3   Q4_86  2154.962997      Q4 1986 1986-10-01   Oct  1986\n",
       "4   Q1_87  1547.818996      Q1 1987 1987-01-01   Jan  1987\n",
       "5   Q2_87  2104.411995      Q2 1987 1987-04-01   Apr  1987\n",
       "6   Q3_87  2014.362999      Q3 1987 1987-07-01   Jul  1987\n",
       "7   Q4_87  1991.746998      Q4 1987 1987-10-01   Oct  1987\n",
       "8   Q1_88  1869.049999      Q1 1988 1988-01-01   Jan  1988\n",
       "9   Q2_88  2313.631996      Q2 1988 1988-04-01   Apr  1988"
      ]
     },
     "execution_count": 38,
     "metadata": {},
     "output_type": "execute_result"
    }
   ],
   "source": [
    "forecast[\"Date\"] = pd.to_datetime(forecast.Date,format=\"%b-%y\")\n",
    "forecast[\"month\"] = forecast.Date.dt.strftime(\"%b\") # month extraction\n",
    "forecast[\"year\"] = forecast.Date.dt.strftime(\"%Y\") # year extraction\n",
    "forecast.head(10)"
   ]
  },
  {
   "cell_type": "markdown",
   "id": "e44b42cd",
   "metadata": {},
   "source": [
    "### Making the Date as DateTime index for the Dataframe."
   ]
  },
  {
   "cell_type": "code",
   "execution_count": 39,
   "id": "3a867e03",
   "metadata": {},
   "outputs": [
    {
     "data": {
      "text/plain": [
       "Int64Index([1986, 1986, 1986, 1986, 1987, 1987, 1987, 1987, 1988, 1988, 1988,\n",
       "            1988, 1989, 1989, 1989, 1989, 1990, 1990, 1990, 1990, 1991, 1991,\n",
       "            1991, 1991, 1992, 1992, 1992, 1992, 1993, 1993, 1993, 1993, 1994,\n",
       "            1994, 1994, 1994, 1995, 1995, 1995, 1995, 1996, 1996],\n",
       "           dtype='int64', name='Date')"
      ]
     },
     "execution_count": 39,
     "metadata": {},
     "output_type": "execute_result"
    }
   ],
   "source": [
    "forecast.set_index('Date',inplace=True)\n",
    "forecast.index.year"
   ]
  },
  {
   "cell_type": "code",
   "execution_count": 19,
   "id": "e3ea5f8b",
   "metadata": {},
   "outputs": [
    {
     "data": {
      "text/html": [
       "<div>\n",
       "<style scoped>\n",
       "    .dataframe tbody tr th:only-of-type {\n",
       "        vertical-align: middle;\n",
       "    }\n",
       "\n",
       "    .dataframe tbody tr th {\n",
       "        vertical-align: top;\n",
       "    }\n",
       "\n",
       "    .dataframe thead th {\n",
       "        text-align: right;\n",
       "    }\n",
       "</style>\n",
       "<table border=\"1\" class=\"dataframe\">\n",
       "  <thead>\n",
       "    <tr style=\"text-align: right;\">\n",
       "      <th></th>\n",
       "      <th>Sales</th>\n",
       "      <th>month</th>\n",
       "      <th>year</th>\n",
       "    </tr>\n",
       "    <tr>\n",
       "      <th>Date</th>\n",
       "      <th></th>\n",
       "      <th></th>\n",
       "      <th></th>\n",
       "    </tr>\n",
       "  </thead>\n",
       "  <tbody>\n",
       "    <tr>\n",
       "      <th>1986-01-01</th>\n",
       "      <td>1734.827000</td>\n",
       "      <td>Jan</td>\n",
       "      <td>1986</td>\n",
       "    </tr>\n",
       "    <tr>\n",
       "      <th>1986-04-01</th>\n",
       "      <td>2244.960999</td>\n",
       "      <td>Apr</td>\n",
       "      <td>1986</td>\n",
       "    </tr>\n",
       "    <tr>\n",
       "      <th>1986-07-01</th>\n",
       "      <td>2533.804993</td>\n",
       "      <td>Jul</td>\n",
       "      <td>1986</td>\n",
       "    </tr>\n",
       "    <tr>\n",
       "      <th>1986-10-01</th>\n",
       "      <td>2154.962997</td>\n",
       "      <td>Oct</td>\n",
       "      <td>1986</td>\n",
       "    </tr>\n",
       "    <tr>\n",
       "      <th>1987-01-01</th>\n",
       "      <td>1547.818996</td>\n",
       "      <td>Jan</td>\n",
       "      <td>1987</td>\n",
       "    </tr>\n",
       "  </tbody>\n",
       "</table>\n",
       "</div>"
      ],
      "text/plain": [
       "                  Sales month  year\n",
       "Date                               \n",
       "1986-01-01  1734.827000   Jan  1986\n",
       "1986-04-01  2244.960999   Apr  1986\n",
       "1986-07-01  2533.804993   Jul  1986\n",
       "1986-10-01  2154.962997   Oct  1986\n",
       "1987-01-01  1547.818996   Jan  1987"
      ]
     },
     "execution_count": 19,
     "metadata": {},
     "output_type": "execute_result"
    }
   ],
   "source": [
    "forecast1 = forecast.drop([\"Quarter\",\"Quarter_Year\"], axis=1)\n",
    "forecast1.head()"
   ]
  },
  {
   "cell_type": "markdown",
   "id": "482697a7",
   "metadata": {},
   "source": [
    "## <font color= red> ACF AND PACF PLOTS.</font>"
   ]
  },
  {
   "cell_type": "code",
   "execution_count": 40,
   "id": "e6db29a8",
   "metadata": {},
   "outputs": [
    {
     "data": {
      "image/png": "[encoded data removed]",
      "text/plain": [
       "<Figure size 1152x432 with 1 Axes>"
      ]
     },
     "metadata": {},
     "output_type": "display_data"
    },
    {
     "data": {
      "image/png": "[encoded data removed]",
      "text/plain": [
       "<Figure size 1008x432 with 1 Axes>"
      ]
     },
     "metadata": {},
     "output_type": "display_data"
    }
   ],
   "source": [
    "import statsmodels.graphics.tsaplots as tsa_plots\n",
    "\n",
    "# ACF PLOT:- \n",
    "\n",
    "with plt.rc_context():\n",
    "    plt.rc(\"figure\", figsize=(16,6))\n",
    "    tsa_plots.plot_acf(forecast1['Sales'],lags=40)\n",
    "    plt.show()\n",
    "# PACF PPLOT:- \n",
    "\n",
    "with plt.rc_context():\n",
    "    plt.rc(\"figure\", figsize=(14,6))\n",
    "    tsa_plots.plot_pacf(forecast1.Sales,lags=20)\n",
    "    plt.show()"
   ]
  },
  {
   "cell_type": "markdown",
   "id": "87ec67dc",
   "metadata": {},
   "source": [
    "## <font color= red> SAMPLING THE DATA.</font>\n",
    "#### INTERPOLATION (Upsampling With Respect To Month)."
   ]
  },
  {
   "cell_type": "code",
   "execution_count": 41,
   "id": "e6f62772",
   "metadata": {},
   "outputs": [
    {
     "data": {
      "text/html": [
       "<div>\n",
       "<style scoped>\n",
       "    .dataframe tbody tr th:only-of-type {\n",
       "        vertical-align: middle;\n",
       "    }\n",
       "\n",
       "    .dataframe tbody tr th {\n",
       "        vertical-align: top;\n",
       "    }\n",
       "\n",
       "    .dataframe thead th {\n",
       "        text-align: right;\n",
       "    }\n",
       "</style>\n",
       "<table border=\"1\" class=\"dataframe\">\n",
       "  <thead>\n",
       "    <tr style=\"text-align: right;\">\n",
       "      <th></th>\n",
       "      <th>Sales</th>\n",
       "    </tr>\n",
       "    <tr>\n",
       "      <th>Date</th>\n",
       "      <th></th>\n",
       "    </tr>\n",
       "  </thead>\n",
       "  <tbody>\n",
       "    <tr>\n",
       "      <th>1986-01-31</th>\n",
       "      <td>1734.827000</td>\n",
       "    </tr>\n",
       "    <tr>\n",
       "      <th>1986-02-28</th>\n",
       "      <td>NaN</td>\n",
       "    </tr>\n",
       "    <tr>\n",
       "      <th>1986-03-31</th>\n",
       "      <td>NaN</td>\n",
       "    </tr>\n",
       "    <tr>\n",
       "      <th>1986-04-30</th>\n",
       "      <td>2244.960999</td>\n",
       "    </tr>\n",
       "    <tr>\n",
       "      <th>1986-05-31</th>\n",
       "      <td>NaN</td>\n",
       "    </tr>\n",
       "  </tbody>\n",
       "</table>\n",
       "</div>"
      ],
      "text/plain": [
       "                  Sales\n",
       "Date                   \n",
       "1986-01-31  1734.827000\n",
       "1986-02-28          NaN\n",
       "1986-03-31          NaN\n",
       "1986-04-30  2244.960999\n",
       "1986-05-31          NaN"
      ]
     },
     "execution_count": 41,
     "metadata": {},
     "output_type": "execute_result"
    }
   ],
   "source": [
    "upsampled_month = forecast1.resample('M').mean()\n",
    "upsampled_month.head()"
   ]
  },
  {
   "cell_type": "code",
   "execution_count": 42,
   "id": "2f4de020",
   "metadata": {},
   "outputs": [
    {
     "name": "stdout",
     "output_type": "stream",
     "text": [
      "                  Sales\n",
      "Date                   \n",
      "1986-01-31  1734.827000\n",
      "1986-02-28  1904.871666\n",
      "1986-03-31  2074.916332\n",
      "1986-04-30  2244.960999\n",
      "1986-05-31  2341.242330\n",
      "1986-06-30  2437.523661\n",
      "1986-07-31  2533.804993\n",
      "1986-08-31  2407.524328\n",
      "1986-09-30  2281.243663\n",
      "1986-10-31  2154.962997\n"
     ]
    },
    {
     "data": {
      "image/png": "[encoded data removed]",
      "text/plain": [
       "<Figure size 864x432 with 1 Axes>"
      ]
     },
     "metadata": {},
     "output_type": "display_data"
    }
   ],
   "source": [
    "## interpolation was done for nan values which we get after doing upsampling by month\n",
    "interpolated_month = upsampled_month.interpolate(method='linear')\n",
    "print(interpolated_month.head(10))\n",
    "\n",
    "interpolated_month.plot(figsize=(12,6))\n",
    "plt.show()"
   ]
  },
  {
   "cell_type": "code",
   "execution_count": 43,
   "id": "aaa05610",
   "metadata": {},
   "outputs": [
    {
     "data": {
      "text/html": [
       "<div>\n",
       "<style scoped>\n",
       "    .dataframe tbody tr th:only-of-type {\n",
       "        vertical-align: middle;\n",
       "    }\n",
       "\n",
       "    .dataframe tbody tr th {\n",
       "        vertical-align: top;\n",
       "    }\n",
       "\n",
       "    .dataframe thead th {\n",
       "        text-align: right;\n",
       "    }\n",
       "</style>\n",
       "<table border=\"1\" class=\"dataframe\">\n",
       "  <thead>\n",
       "    <tr style=\"text-align: right;\">\n",
       "      <th></th>\n",
       "      <th>Date</th>\n",
       "      <th>Sales</th>\n",
       "      <th>month</th>\n",
       "    </tr>\n",
       "  </thead>\n",
       "  <tbody>\n",
       "    <tr>\n",
       "      <th>0</th>\n",
       "      <td>1986-01-31</td>\n",
       "      <td>1734.827000</td>\n",
       "      <td>Jan</td>\n",
       "    </tr>\n",
       "    <tr>\n",
       "      <th>1</th>\n",
       "      <td>1986-02-28</td>\n",
       "      <td>1904.871666</td>\n",
       "      <td>Feb</td>\n",
       "    </tr>\n",
       "    <tr>\n",
       "      <th>2</th>\n",
       "      <td>1986-03-31</td>\n",
       "      <td>2074.916332</td>\n",
       "      <td>Mar</td>\n",
       "    </tr>\n",
       "    <tr>\n",
       "      <th>3</th>\n",
       "      <td>1986-04-30</td>\n",
       "      <td>2244.960999</td>\n",
       "      <td>Apr</td>\n",
       "    </tr>\n",
       "    <tr>\n",
       "      <th>4</th>\n",
       "      <td>1986-05-31</td>\n",
       "      <td>2341.242330</td>\n",
       "      <td>May</td>\n",
       "    </tr>\n",
       "    <tr>\n",
       "      <th>...</th>\n",
       "      <td>...</td>\n",
       "      <td>...</td>\n",
       "      <td>...</td>\n",
       "    </tr>\n",
       "    <tr>\n",
       "      <th>119</th>\n",
       "      <td>1995-12-31</td>\n",
       "      <td>4240.333333</td>\n",
       "      <td>Dec</td>\n",
       "    </tr>\n",
       "    <tr>\n",
       "      <th>120</th>\n",
       "      <td>1996-01-31</td>\n",
       "      <td>4194.000000</td>\n",
       "      <td>Jan</td>\n",
       "    </tr>\n",
       "    <tr>\n",
       "      <th>121</th>\n",
       "      <td>1996-02-29</td>\n",
       "      <td>4547.000000</td>\n",
       "      <td>Feb</td>\n",
       "    </tr>\n",
       "    <tr>\n",
       "      <th>122</th>\n",
       "      <td>1996-03-31</td>\n",
       "      <td>4900.000000</td>\n",
       "      <td>Mar</td>\n",
       "    </tr>\n",
       "    <tr>\n",
       "      <th>123</th>\n",
       "      <td>1996-04-30</td>\n",
       "      <td>5253.000000</td>\n",
       "      <td>Apr</td>\n",
       "    </tr>\n",
       "  </tbody>\n",
       "</table>\n",
       "<p>124 rows × 3 columns</p>\n",
       "</div>"
      ],
      "text/plain": [
       "          Date        Sales month\n",
       "0   1986-01-31  1734.827000   Jan\n",
       "1   1986-02-28  1904.871666   Feb\n",
       "2   1986-03-31  2074.916332   Mar\n",
       "3   1986-04-30  2244.960999   Apr\n",
       "4   1986-05-31  2341.242330   May\n",
       "..         ...          ...   ...\n",
       "119 1995-12-31  4240.333333   Dec\n",
       "120 1996-01-31  4194.000000   Jan\n",
       "121 1996-02-29  4547.000000   Feb\n",
       "122 1996-03-31  4900.000000   Mar\n",
       "123 1996-04-30  5253.000000   Apr\n",
       "\n",
       "[124 rows x 3 columns]"
      ]
     },
     "execution_count": 43,
     "metadata": {},
     "output_type": "execute_result"
    }
   ],
   "source": [
    "interpolated_month.reset_index(inplace=True)\n",
    "interpolated_month[\"month\"] = interpolated_month.Date.dt.strftime(\"%b\") # month extraction\n",
    "forecast3 = interpolated_month\n",
    "forecast3"
   ]
  },
  {
   "cell_type": "markdown",
   "id": "7012fade",
   "metadata": {},
   "source": [
    "### Log Transformation On Dependent Variable Column. "
   ]
  },
  {
   "cell_type": "code",
   "execution_count": 47,
   "id": "59853f34",
   "metadata": {},
   "outputs": [],
   "source": [
    "forecast3[\"Sales_log\"] = np.log(forecast3['Sales'])\n",
    "forecast3[\"Sales_sqrt\"] = np.sqrt(forecast3['Sales'])"
   ]
  },
  {
   "cell_type": "code",
   "execution_count": 49,
   "id": "175a91fe",
   "metadata": {},
   "outputs": [],
   "source": [
    "#Also adding \"t\" col and \"t_squared\" columns.\n",
    "forecast3['t'] = np.arange(1,125)\n",
    "forecast3['t_squared'] = forecast3['t']**2"
   ]
  },
  {
   "cell_type": "code",
   "execution_count": 51,
   "id": "901b3885",
   "metadata": {},
   "outputs": [
    {
     "data": {
      "image/png": "[encoded data removed]",
      "text/plain": [
       "<Figure size 432x288 with 1 Axes>"
      ]
     },
     "metadata": {},
     "output_type": "display_data"
    },
    {
     "data": {
      "image/png": "[encoded data removed]",
      "text/plain": [
       "<Figure size 432x288 with 1 Axes>"
      ]
     },
     "metadata": {},
     "output_type": "display_data"
    },
    {
     "data": {
      "image/png": "[encoded data removed]",
      "text/plain": [
       "<Figure size 432x288 with 1 Axes>"
      ]
     },
     "metadata": {},
     "output_type": "display_data"
    }
   ],
   "source": [
    "# BEFORE TRANSFORMATION.\n",
    "interpolated_month['Sales'].plot()\n",
    "plt.title(\"Before Log Transformation\")\n",
    "plt.show()\n",
    "\n",
    "# AFTER TRANSFORMATION.\n",
    "interpolated_month['Sales_log'].plot()\n",
    "plt.title(\"After Log Transformation\",color = \"red\")\n",
    "plt.show()\n",
    "interpolated_month['Sales_sqrt'].plot()\n",
    "plt.title(\"After sqrt Transformation\",color = \"red\")\n",
    "plt.show()"
   ]
  },
  {
   "cell_type": "code",
   "execution_count": 52,
   "id": "322c716a",
   "metadata": {},
   "outputs": [
    {
     "data": {
      "text/plain": [
       "(124, 7)"
      ]
     },
     "execution_count": 52,
     "metadata": {},
     "output_type": "execute_result"
    }
   ],
   "source": [
    "forecast3.shape"
   ]
  },
  {
   "cell_type": "markdown",
   "id": "9193fc3e",
   "metadata": {},
   "source": [
    "## <font color= red> DATA SPLITTING.</font>"
   ]
  },
  {
   "cell_type": "code",
   "execution_count": 54,
   "id": "ad2019ad",
   "metadata": {},
   "outputs": [],
   "source": [
    "#70% of data into Train data and rest for Test Data.\n",
    "\n",
    "size = 100\n",
    "\n",
    "Train = forecast3.iloc[:size]\n",
    "Test = forecast3.iloc[size:]"
   ]
  },
  {
   "cell_type": "markdown",
   "id": "db465962",
   "metadata": {},
   "source": [
    "## <font color= red>  MODEL BUILDING .</font>\n",
    "### <font color= green>1) Linear Model.</font>"
   ]
  },
  {
   "cell_type": "code",
   "execution_count": 55,
   "id": "9f5b1f80",
   "metadata": {},
   "outputs": [
    {
     "data": {
      "text/plain": [
       "686.8740863668945"
      ]
     },
     "execution_count": 55,
     "metadata": {},
     "output_type": "execute_result"
    }
   ],
   "source": [
    "import statsmodels.formula.api as smf \n",
    "\n",
    "linear_model = smf.ols('Sales~t',data=Train).fit()\n",
    "pred_linear =  linear_model.predict(pd.DataFrame(Test['t']))\n",
    "rmse_linear = np.sqrt(np.mean((np.array(Test['Sales'])-np.array(pred_linear))**2))\n",
    "rmse_linear"
   ]
  },
  {
   "cell_type": "markdown",
   "id": "e5da76d2",
   "metadata": {},
   "source": [
    "### <font color= green>2) Quadratic Model.</font>"
   ]
  },
  {
   "cell_type": "code",
   "execution_count": 56,
   "id": "07a613bd",
   "metadata": {},
   "outputs": [
    {
     "data": {
      "text/plain": [
       "371.2941834498652"
      ]
     },
     "execution_count": 56,
     "metadata": {},
     "output_type": "execute_result"
    }
   ],
   "source": [
    "Quad = smf.ols('Sales~t+t_squared',data=Train).fit()\n",
    "pred_Quad = Quad.predict(Test[[\"t\",\"t_squared\"]])\n",
    "rmse_Quad = np.sqrt(np.mean((np.array(Test['Sales'])-np.array(pred_Quad))**2))\n",
    "rmse_Quad"
   ]
  },
  {
   "cell_type": "markdown",
   "id": "c2331dad",
   "metadata": {},
   "source": [
    "### <font color= green>3) Exponential Model.</font>"
   ]
  },
  {
   "cell_type": "code",
   "execution_count": 57,
   "id": "00f6f355",
   "metadata": {},
   "outputs": [
    {
     "data": {
      "text/plain": [
       "530.3268025099092"
      ]
     },
     "execution_count": 57,
     "metadata": {},
     "output_type": "execute_result"
    }
   ],
   "source": [
    "Exp = smf.ols('Sales_log~t',data=Train).fit()\n",
    "pred_Exp = Exp.predict(pd.DataFrame(Test['t']))\n",
    "rmse_Exp = np.sqrt(np.mean((np.array(Test['Sales'])-np.array(np.exp(pred_Exp)))**2))\n",
    "rmse_Exp"
   ]
  },
  {
   "cell_type": "markdown",
   "id": "27ccf2e0",
   "metadata": {},
   "source": [
    "### <font color= green>4) Additive Seasonality Model.</font>"
   ]
  },
  {
   "cell_type": "code",
   "execution_count": 58,
   "id": "f4d083df",
   "metadata": {},
   "outputs": [
    {
     "data": {
      "text/plain": [
       "1837.7879723483782"
      ]
     },
     "execution_count": 58,
     "metadata": {},
     "output_type": "execute_result"
    }
   ],
   "source": [
    "add_sea = smf.ols('Sales~month',data=Train).fit()\n",
    "pred_add_sea = pd.Series(add_sea.predict(Test[['month']]))\n",
    "rmse_add_sea = np.sqrt(np.mean((np.array(Test['Sales'])-np.array(pred_add_sea))**2))\n",
    "rmse_add_sea"
   ]
  },
  {
   "cell_type": "markdown",
   "id": "3efa849a",
   "metadata": {},
   "source": [
    "### <font color= green>5) Additive Seasonality Quadratic Model.</font>"
   ]
  },
  {
   "cell_type": "code",
   "execution_count": 59,
   "id": "475b019f",
   "metadata": {},
   "outputs": [
    {
     "data": {
      "text/plain": [
       "613.8258293118381"
      ]
     },
     "execution_count": 59,
     "metadata": {},
     "output_type": "execute_result"
    }
   ],
   "source": [
    "\n",
    "add_sea_Quad = smf.ols('Sales~t+month',data=Train).fit()\n",
    "pred_add_sea_quad = pd.Series(add_sea_Quad.predict(Test[['month','t','t_squared']]))\n",
    "rmse_add_sea_quad = np.sqrt(np.mean((np.array(Test['Sales'])-np.array(pred_add_sea_quad))**2))\n",
    "rmse_add_sea_quad"
   ]
  },
  {
   "cell_type": "markdown",
   "id": "4e969ea0",
   "metadata": {},
   "source": [
    "### <font color= green>6) Multiplicative Seasonality Model.</font>"
   ]
  },
  {
   "cell_type": "code",
   "execution_count": 60,
   "id": "b4c8316a",
   "metadata": {},
   "outputs": [
    {
     "data": {
      "text/plain": [
       "1904.7944171920255"
      ]
     },
     "execution_count": 60,
     "metadata": {},
     "output_type": "execute_result"
    }
   ],
   "source": [
    "Mul_sea = smf.ols('Sales_log~month',data = Train).fit()\n",
    "pred_Mult_sea = pd.Series(Mul_sea.predict(Test))\n",
    "rmse_Mult_sea = np.sqrt(np.mean((np.array(Test['Sales'])-np.array(np.exp(pred_Mult_sea)))**2))\n",
    "rmse_Mult_sea"
   ]
  },
  {
   "cell_type": "markdown",
   "id": "b12316ad",
   "metadata": {},
   "source": [
    "### <font color= green>7) Multiplicative Additive Seasonality  Model.</font>"
   ]
  },
  {
   "cell_type": "code",
   "execution_count": 61,
   "id": "69045bea",
   "metadata": {},
   "outputs": [
    {
     "data": {
      "text/plain": [
       "396.4197817376186"
      ]
     },
     "execution_count": 61,
     "metadata": {},
     "output_type": "execute_result"
    }
   ],
   "source": [
    "Mul_Add_sea = smf.ols('Sales_log~t+month',data = Train).fit()\n",
    "pred_Mult_add_sea = pd.Series(Mul_Add_sea.predict(Test))\n",
    "rmse_Mult_add_sea = np.sqrt(np.mean((np.array(Test['Sales'])-np.array(np.exp(pred_Mult_add_sea)))**2))\n",
    "rmse_Mult_add_sea "
   ]
  },
  {
   "cell_type": "markdown",
   "id": "9ea07c50",
   "metadata": {},
   "source": [
    "### <font color= green>8) ARIMA Model.</font>\n",
    "#### <font color= green>STEP 1.</font>"
   ]
  },
  {
   "cell_type": "code",
   "execution_count": 62,
   "id": "a22a1481",
   "metadata": {},
   "outputs": [
    {
     "data": {
      "text/plain": [
       "Int64Index([1986, 1986, 1986, 1986, 1986, 1986, 1986, 1986, 1986, 1986,\n",
       "            ...\n",
       "            1995, 1995, 1995, 1995, 1995, 1995, 1996, 1996, 1996, 1996],\n",
       "           dtype='int64', name='Date', length=124)"
      ]
     },
     "execution_count": 62,
     "metadata": {},
     "output_type": "execute_result"
    }
   ],
   "source": [
    "forecast3.set_index('Date',inplace=True)\n",
    "forecast3.index.year"
   ]
  },
  {
   "cell_type": "code",
   "execution_count": 63,
   "id": "2abfd227",
   "metadata": {},
   "outputs": [
    {
     "data": {
      "text/html": [
       "<div>\n",
       "<style scoped>\n",
       "    .dataframe tbody tr th:only-of-type {\n",
       "        vertical-align: middle;\n",
       "    }\n",
       "\n",
       "    .dataframe tbody tr th {\n",
       "        vertical-align: top;\n",
       "    }\n",
       "\n",
       "    .dataframe thead th {\n",
       "        text-align: right;\n",
       "    }\n",
       "</style>\n",
       "<table border=\"1\" class=\"dataframe\">\n",
       "  <thead>\n",
       "    <tr style=\"text-align: right;\">\n",
       "      <th></th>\n",
       "      <th>Sales</th>\n",
       "      <th>month</th>\n",
       "      <th>Sales_log</th>\n",
       "      <th>Sales_sqrt</th>\n",
       "      <th>t</th>\n",
       "      <th>t_squared</th>\n",
       "    </tr>\n",
       "    <tr>\n",
       "      <th>Date</th>\n",
       "      <th></th>\n",
       "      <th></th>\n",
       "      <th></th>\n",
       "      <th></th>\n",
       "      <th></th>\n",
       "      <th></th>\n",
       "    </tr>\n",
       "  </thead>\n",
       "  <tbody>\n",
       "    <tr>\n",
       "      <th>1986-01-31</th>\n",
       "      <td>1734.827000</td>\n",
       "      <td>Jan</td>\n",
       "      <td>7.458663</td>\n",
       "      <td>41.651254</td>\n",
       "      <td>1</td>\n",
       "      <td>1</td>\n",
       "    </tr>\n",
       "    <tr>\n",
       "      <th>1986-02-28</th>\n",
       "      <td>1904.871666</td>\n",
       "      <td>Feb</td>\n",
       "      <td>7.552170</td>\n",
       "      <td>43.644836</td>\n",
       "      <td>2</td>\n",
       "      <td>4</td>\n",
       "    </tr>\n",
       "    <tr>\n",
       "      <th>1986-03-31</th>\n",
       "      <td>2074.916332</td>\n",
       "      <td>Mar</td>\n",
       "      <td>7.637676</td>\n",
       "      <td>45.551250</td>\n",
       "      <td>3</td>\n",
       "      <td>9</td>\n",
       "    </tr>\n",
       "    <tr>\n",
       "      <th>1986-04-30</th>\n",
       "      <td>2244.960999</td>\n",
       "      <td>Apr</td>\n",
       "      <td>7.716443</td>\n",
       "      <td>47.381019</td>\n",
       "      <td>4</td>\n",
       "      <td>16</td>\n",
       "    </tr>\n",
       "    <tr>\n",
       "      <th>1986-05-31</th>\n",
       "      <td>2341.242330</td>\n",
       "      <td>May</td>\n",
       "      <td>7.758437</td>\n",
       "      <td>48.386386</td>\n",
       "      <td>5</td>\n",
       "      <td>25</td>\n",
       "    </tr>\n",
       "  </tbody>\n",
       "</table>\n",
       "</div>"
      ],
      "text/plain": [
       "                  Sales month  Sales_log  Sales_sqrt  t  t_squared\n",
       "Date                                                              \n",
       "1986-01-31  1734.827000   Jan   7.458663   41.651254  1          1\n",
       "1986-02-28  1904.871666   Feb   7.552170   43.644836  2          4\n",
       "1986-03-31  2074.916332   Mar   7.637676   45.551250  3          9\n",
       "1986-04-30  2244.960999   Apr   7.716443   47.381019  4         16\n",
       "1986-05-31  2341.242330   May   7.758437   48.386386  5         25"
      ]
     },
     "execution_count": 63,
     "metadata": {},
     "output_type": "execute_result"
    }
   ],
   "source": [
    "forecast3.head()"
   ]
  },
  {
   "cell_type": "code",
   "execution_count": 66,
   "id": "72ef7430",
   "metadata": {},
   "outputs": [
    {
     "data": {
      "text/html": [
       "<div>\n",
       "<style scoped>\n",
       "    .dataframe tbody tr th:only-of-type {\n",
       "        vertical-align: middle;\n",
       "    }\n",
       "\n",
       "    .dataframe tbody tr th {\n",
       "        vertical-align: top;\n",
       "    }\n",
       "\n",
       "    .dataframe thead th {\n",
       "        text-align: right;\n",
       "    }\n",
       "</style>\n",
       "<table border=\"1\" class=\"dataframe\">\n",
       "  <thead>\n",
       "    <tr style=\"text-align: right;\">\n",
       "      <th></th>\n",
       "      <th>Sales</th>\n",
       "    </tr>\n",
       "    <tr>\n",
       "      <th>Date</th>\n",
       "      <th></th>\n",
       "    </tr>\n",
       "  </thead>\n",
       "  <tbody>\n",
       "    <tr>\n",
       "      <th>1986-01-31</th>\n",
       "      <td>1734.827000</td>\n",
       "    </tr>\n",
       "    <tr>\n",
       "      <th>1986-02-28</th>\n",
       "      <td>1904.871666</td>\n",
       "    </tr>\n",
       "    <tr>\n",
       "      <th>1986-03-31</th>\n",
       "      <td>2074.916332</td>\n",
       "    </tr>\n",
       "    <tr>\n",
       "      <th>1986-04-30</th>\n",
       "      <td>2244.960999</td>\n",
       "    </tr>\n",
       "  </tbody>\n",
       "</table>\n",
       "</div>"
      ],
      "text/plain": [
       "                  Sales\n",
       "Date                   \n",
       "1986-01-31  1734.827000\n",
       "1986-02-28  1904.871666\n",
       "1986-03-31  2074.916332\n",
       "1986-04-30  2244.960999"
      ]
     },
     "execution_count": 66,
     "metadata": {},
     "output_type": "execute_result"
    }
   ],
   "source": [
    "# Droping the not required columns.\n",
    "\n",
    "Forecast = forecast3.drop([\"Sales_log\",\"Sales_sqrt\",\"t\",\"t_squared\",\"month\"], axis=1)\n",
    "Forecast.head(4)"
   ]
  },
  {
   "cell_type": "markdown",
   "id": "b10abffc",
   "metadata": {},
   "source": [
    "#### <font color= green>STEP 2.</font>\n",
    "#### <font color= darkgreen> MAKING THE DATASET STATIONARY.</font>"
   ]
  },
  {
   "cell_type": "code",
   "execution_count": 69,
   "id": "54f4d25d",
   "metadata": {},
   "outputs": [
    {
     "data": {
      "image/png": "[encoded data removed]",
      "text/plain": [
       "<Figure size 432x288 with 4 Axes>"
      ]
     },
     "metadata": {},
     "output_type": "display_data"
    }
   ],
   "source": [
    "# Decompose Time-Series to See Components (Trend, Seasonality, Noise, etc).\n",
    "\n",
    "from statsmodels.tsa.seasonal import seasonal_decompose\n",
    "decompose_result = seasonal_decompose(Forecast)\n",
    "\n",
    "trend = decompose_result.trend\n",
    "seasonal = decompose_result.seasonal\n",
    "residual = decompose_result.resid\n",
    "\n",
    "decompose_result.plot();"
   ]
  },
  {
   "cell_type": "markdown",
   "id": "585e7005",
   "metadata": {},
   "source": [
    "##### <font color= red> STEP1:- Checking Whether Time-Series is Stationary or Not. .</font>"
   ]
  },
  {
   "cell_type": "markdown",
   "id": "2fd0e8ed",
   "metadata": {},
   "source": [
    "### Dicky-Fuller Test for Stationarity.\n",
    "#### Once we have removed trend and seasonality from time-series data then we can test its stationarity using a dicky-fuller test. It's a statistical test to check the stationarity of time-series data."
   ]
  },
  {
   "cell_type": "code",
   "execution_count": 83,
   "id": "aa4584d9",
   "metadata": {},
   "outputs": [
    {
     "name": "stdout",
     "output_type": "stream",
     "text": [
      "1. ADF :  0.5725994512262168\n",
      "2. P-Value :  0.9869204153832035\n",
      "3. Num Of Lags :  10\n",
      "4. Num Of Observations Used For ADF Regression and Critical Values Calculation : 113\n",
      "5. Critical Values :\n",
      "\t 1% :  -3.489589552580676\n",
      "\t 5% :  -2.887477210140433\n",
      "\t 10% :  -2.580604145195395\n"
     ]
    }
   ],
   "source": [
    "from statsmodels.tsa.stattools import adfuller\n",
    "\n",
    "dftest = adfuller(Forecast, autolag = 'AIC')\n",
    "\n",
    "print(\"1. ADF : \",dftest[0])\n",
    "print(\"2. P-Value : \", dftest[1])\n",
    "print(\"3. Num Of Lags : \", dftest[2])\n",
    "print(\"4. Num Of Observations Used For ADF Regression and Critical Values Calculation :\", dftest[3])\n",
    "print(\"5. Critical Values :\")\n",
    "for key, val in dftest[4].items():\n",
    "    print(\"\\t\",key, \": \", val)"
   ]
  },
  {
   "cell_type": "markdown",
   "id": "47b871bf",
   "metadata": {},
   "source": [
    "#### We can interpret above results based on p-values of result.<br><br><br>p-value > 0.05 - This implies that time-series is non-stationary.<br>p-value <=0.05 - This implies that time-series is stationary.<br><br>We can see from the above results that p-value is greater than 0.05, hence our time-series is not stationary. It still has time-dependent components present which we need to remove."
   ]
  },
  {
   "cell_type": "markdown",
   "id": "1cd7c7c5",
   "metadata": {},
   "source": [
    "##### <font color= red> STEP2:- REMOVING TRENDS AND SEASONALITY. .</font>"
   ]
  },
  {
   "cell_type": "markdown",
   "id": "7ef5878e",
   "metadata": {},
   "source": [
    "#### We can make the dataset stationary by removing trend and seasonality from time series data.<br><br>a} There are various ways to remove trend are as follow:-<br>1)Log Transformation.<br>2)Power Transformation.<br>3)Local smoothing - Applying moving window functions to time-series data<br>Differencing a time-series.<br>Linear Regression,etc.\n",
    "#### <font color= green> OR We can directly do detrending by using the detrend function from the scipy module.</font>\n",
    "#### b}There are various ways to remove seasonality are as follow:-<br>1)Average de-trended values.<br>2)Differencing a time-series.<br>3)Use the loss method,etc.\n",
    "#### <font color= green>OR We can directly use the \"seasonal_decompose\" function from the \"statsmodels\" package.</font>"
   ]
  },
  {
   "cell_type": "markdown",
   "id": "4318f644",
   "metadata": {},
   "source": [
    "### Removing Trend By Log Transformation."
   ]
  },
  {
   "cell_type": "code",
   "execution_count": 73,
   "id": "6ab59ab9",
   "metadata": {},
   "outputs": [
    {
     "data": {
      "image/png": "[encoded data removed]",
      "text/plain": [
       "<Figure size 864x288 with 2 Axes>"
      ]
     },
     "metadata": {},
     "output_type": "display_data"
    }
   ],
   "source": [
    "logged_Forecast = Forecast[\"Sales\"].apply(lambda x : np.log(x))\n",
    "\n",
    "ax1 = plt.subplot(121)\n",
    "logged_Forecast.plot(figsize=(12,4) ,color=\"tab:red\", title=\"Log Transformed Values\", ax=ax1);\n",
    "ax2 = plt.subplot(122)\n",
    "Forecast.plot(color=\"tab:blue\", title=\"Original Values\", ax=ax2);"
   ]
  },
  {
   "cell_type": "markdown",
   "id": "c7454362",
   "metadata": {},
   "source": [
    "### Now, Removing Seasonality By Differencing Over Log Transformed Time-Series."
   ]
  },
  {
   "cell_type": "code",
   "execution_count": 74,
   "id": "58e3669d",
   "metadata": {},
   "outputs": [
    {
     "data": {
      "image/png": "[encoded data removed]",
      "text/plain": [
       "<Figure size 864x288 with 2 Axes>"
      ]
     },
     "metadata": {},
     "output_type": "display_data"
    }
   ],
   "source": [
    "logged_Forecast_diff = logged_Forecast - logged_Forecast.shift()\n",
    "\n",
    "ax1 = plt.subplot(121)\n",
    "logged_Forecast_diff.plot(figsize=(12,4), color=\"tab:red\", title=\"Log-Transformed & Differenced Time-Series\", ax=ax1)\n",
    "ax2 = plt.subplot(122)\n",
    "Forecast.plot(figsize=(12,4), color=\"tab:blue\", title=\"Original Values\", ax=ax2);"
   ]
  },
  {
   "cell_type": "markdown",
   "id": "6ab97eb3",
   "metadata": {},
   "source": [
    "##### <font color= red> STEP3:- AGAIN CHECK WEATHER THE DATASET IS STATIONARY OR NOT. .</font>"
   ]
  },
  {
   "cell_type": "code",
   "execution_count": 84,
   "id": "c7203d43",
   "metadata": {},
   "outputs": [
    {
     "name": "stdout",
     "output_type": "stream",
     "text": [
      "1. ADF :  -3.030060213253419\n",
      "2. P-Value :  0.03218092739693495\n",
      "3. Num Of Lags :  12\n",
      "4. Num Of Observations Used For ADF Regression and Critical Values Calculation : 110\n",
      "5. Critical Values :\n",
      "\t 1% :  -3.4912451337340342\n",
      "\t 5% :  -2.8881954545454547\n",
      "\t 10% :  -2.5809876033057852\n"
     ]
    }
   ],
   "source": [
    "# Dicky-Fuller Test For Checking Dataset Is Stationarity Or Not.\n",
    "\n",
    "dftest = adfuller(logged_Forecast_diff.dropna().values, autolag = 'AIC')\n",
    "\n",
    "print(\"1. ADF : \",dftest[0])\n",
    "print(\"2. P-Value : \", dftest[1])\n",
    "print(\"3. Num Of Lags : \", dftest[2])\n",
    "print(\"4. Num Of Observations Used For ADF Regression and Critical Values Calculation :\", dftest[3])\n",
    "print(\"5. Critical Values :\")\n",
    "for key, val in dftest[4].items():\n",
    "    print(\"\\t\",key, \": \", val)"
   ]
  },
  {
   "cell_type": "markdown",
   "id": "dd3b3950",
   "metadata": {},
   "source": [
    "#### We can now test whether our time-series is stationary of now by applying the dicky-fuller test which we had applied above. "
   ]
  },
  {
   "cell_type": "markdown",
   "id": "d67df043",
   "metadata": {},
   "source": [
    "### <font color= green> From our dicky-fuller test results, we can confirm that time-series is STATIONARY due to a p-value of 0.03 less than 0.05.</font>"
   ]
  },
  {
   "cell_type": "markdown",
   "id": "f71b121e",
   "metadata": {},
   "source": [
    "#### <font color= green>STEP 3.</font>\n",
    "#### <font color= darkgreen>Splitting the dataset.</font>"
   ]
  },
  {
   "cell_type": "code",
   "execution_count": 87,
   "id": "6b2d62ba",
   "metadata": {},
   "outputs": [],
   "source": [
    "Forecast = logged_Forecast_diff"
   ]
  },
  {
   "cell_type": "markdown",
   "id": "1497765c",
   "metadata": {},
   "source": [
    "#### <font color= darkgreen>ARIMA on the Data with UpSampling..</font>"
   ]
  },
  {
   "cell_type": "code",
   "execution_count": 88,
   "id": "95686cbd",
   "metadata": {},
   "outputs": [
    {
     "name": "stdout",
     "output_type": "stream",
     "text": [
      "Dataset 100, Validation 24\n"
     ]
    }
   ],
   "source": [
    "# separate out a validation dataset\n",
    "\n",
    "train_data = Forecast[:100]\n",
    "test_data = Forecast[100:]\n",
    "print('Dataset %d, Validation %d' % (len(train_data), len(test_data)))\n",
    "train_data.to_csv('Forecast_train.csv', header=False)\n",
    "test_data.to_csv('Forecast_validation.csv', header=False)"
   ]
  },
  {
   "cell_type": "markdown",
   "id": "8f30ddf4",
   "metadata": {},
   "source": [
    "#### <font color= darkgreen>ARIMA on the Original Data without UpSampling.</font>"
   ]
  },
  {
   "cell_type": "code",
   "execution_count": 89,
   "id": "69aac882",
   "metadata": {},
   "outputs": [
    {
     "data": {
      "text/html": [
       "<div>\n",
       "<style scoped>\n",
       "    .dataframe tbody tr th:only-of-type {\n",
       "        vertical-align: middle;\n",
       "    }\n",
       "\n",
       "    .dataframe tbody tr th {\n",
       "        vertical-align: top;\n",
       "    }\n",
       "\n",
       "    .dataframe thead th {\n",
       "        text-align: right;\n",
       "    }\n",
       "</style>\n",
       "<table border=\"1\" class=\"dataframe\">\n",
       "  <thead>\n",
       "    <tr style=\"text-align: right;\">\n",
       "      <th></th>\n",
       "      <th>Sales</th>\n",
       "      <th>month</th>\n",
       "      <th>year</th>\n",
       "    </tr>\n",
       "    <tr>\n",
       "      <th>Date</th>\n",
       "      <th></th>\n",
       "      <th></th>\n",
       "      <th></th>\n",
       "    </tr>\n",
       "  </thead>\n",
       "  <tbody>\n",
       "    <tr>\n",
       "      <th>1986-01-01</th>\n",
       "      <td>1734.827000</td>\n",
       "      <td>Jan</td>\n",
       "      <td>1986</td>\n",
       "    </tr>\n",
       "    <tr>\n",
       "      <th>1986-04-01</th>\n",
       "      <td>2244.960999</td>\n",
       "      <td>Apr</td>\n",
       "      <td>1986</td>\n",
       "    </tr>\n",
       "    <tr>\n",
       "      <th>1986-07-01</th>\n",
       "      <td>2533.804993</td>\n",
       "      <td>Jul</td>\n",
       "      <td>1986</td>\n",
       "    </tr>\n",
       "    <tr>\n",
       "      <th>1986-10-01</th>\n",
       "      <td>2154.962997</td>\n",
       "      <td>Oct</td>\n",
       "      <td>1986</td>\n",
       "    </tr>\n",
       "    <tr>\n",
       "      <th>1987-01-01</th>\n",
       "      <td>1547.818996</td>\n",
       "      <td>Jan</td>\n",
       "      <td>1987</td>\n",
       "    </tr>\n",
       "  </tbody>\n",
       "</table>\n",
       "</div>"
      ],
      "text/plain": [
       "                  Sales month  year\n",
       "Date                               \n",
       "1986-01-01  1734.827000   Jan  1986\n",
       "1986-04-01  2244.960999   Apr  1986\n",
       "1986-07-01  2533.804993   Jul  1986\n",
       "1986-10-01  2154.962997   Oct  1986\n",
       "1987-01-01  1547.818996   Jan  1987"
      ]
     },
     "execution_count": 89,
     "metadata": {},
     "output_type": "execute_result"
    }
   ],
   "source": [
    "forecast1.head()"
   ]
  },
  {
   "cell_type": "code",
   "execution_count": 91,
   "id": "0a0b9033",
   "metadata": {},
   "outputs": [
    {
     "data": {
      "text/plain": [
       "(42, 1)"
      ]
     },
     "execution_count": 91,
     "metadata": {},
     "output_type": "execute_result"
    }
   ],
   "source": [
    "Forecast1 = forecast1.drop([\"month\",\"year\"], axis=1)\n",
    "Forecast1.shape"
   ]
  },
  {
   "cell_type": "code",
   "execution_count": 92,
   "id": "b2deaac3",
   "metadata": {},
   "outputs": [
    {
     "name": "stdout",
     "output_type": "stream",
     "text": [
      "Dataset 29, Validation 13\n"
     ]
    }
   ],
   "source": [
    "# separate out a validation dataset\n",
    "\n",
    "size = int(np.round(len(Forecast1)*0.70,))\n",
    "\n",
    "forecast_train = Forecast1.Sales[:size]\n",
    "forecast_validation = Forecast1.Sales[size:]\n",
    "print('Dataset %d, Validation %d' % (len(forecast_train), len(forecast_validation)))\n",
    "forecast_train.to_csv('forecast_train.csv', header=False)\n",
    "forecast_validation.to_csv('forecast_validation.csv', header=False)"
   ]
  },
  {
   "cell_type": "markdown",
   "id": "424d72b4",
   "metadata": {},
   "source": [
    "#### <font color= green>STEP 4.</font>\n",
    "#### <font color= darkgreen>ARIMA Hyperparameter Tuning.</font>"
   ]
  },
  {
   "cell_type": "code",
   "execution_count": 93,
   "id": "bb5f9e42",
   "metadata": {},
   "outputs": [],
   "source": [
    "# grid search ARIMA parameters for a time series:-\n",
    "# evaluate an ARIMA model for a given order (p,d,q) and return RMSE:-\n",
    "\n",
    "from statsmodels.tsa.arima.model import ARIMA\n",
    "from math import sqrt\n",
    "from sklearn.metrics import mean_squared_error\n",
    "\n",
    "def evaluate_arima_model(X, arima_order):\n",
    "# prepare training dataset\n",
    "    X = X.astype('float32')\n",
    "    train_size = int(len(X) * 0.50)\n",
    "    train, test = X[0:train_size], X[train_size:]\n",
    "    history = [x for x in train]\n",
    "# make predictions\n",
    "    predictions = list()\n",
    "    for t in range(len(test)):\n",
    "        model = ARIMA(history, order=arima_order)\n",
    "        model_fit = model.fit()\n",
    "        yhat = model_fit.forecast()[0]\n",
    "        predictions.append(yhat)\n",
    "        history.append(test[t])\n",
    "# calculate out of sample error\n",
    "    rmse = sqrt(mean_squared_error(test, predictions))\n",
    "    return rmse"
   ]
  },
  {
   "cell_type": "code",
   "execution_count": 95,
   "id": "56c7ab6b",
   "metadata": {},
   "outputs": [],
   "source": [
    "# evaluate combinations of p, d and q values for an ARIMA model:- \n",
    "\n",
    "\n",
    "def evaluate_models(dataset, p_values, d_values, q_values):\n",
    "    dataset = dataset.astype('float32')\n",
    "    best_score, best_cfg = float('inf'), None\n",
    "    for p in p_values:\n",
    "        for d in d_values:\n",
    "            for q in q_values:\n",
    "                order = (p,d,q)\n",
    "                try:\n",
    "                    rmse = evaluate_arima_model(dataset, order)\n",
    "                    if rmse < best_score:\n",
    "                        best_score, best_cfg = rmse, order\n",
    "                    #print('ARIMA%s RMSE=%.3f' % (order,rmse))\n",
    "                except Exception as e:\n",
    "                    print(e)\n",
    "                    continue\n",
    "    print('Best ARIMA%s RMSE=%.3f' % (best_cfg, best_score))"
   ]
  },
  {
   "cell_type": "code",
   "execution_count": 96,
   "id": "a56db04e",
   "metadata": {},
   "outputs": [
    {
     "name": "stdout",
     "output_type": "stream",
     "text": [
      "Best ARIMA(2, 2, 1) RMSE=262.643\n"
     ]
    }
   ],
   "source": [
    "# load dataset\n",
    "train = pd.read_csv('forecast_train.csv', header=None, index_col=0, parse_dates=True, squeeze=True)\n",
    "train = train.astype('int64')\n",
    "# evaluate parameters\n",
    "p_values = range(0, 3)\n",
    "d_values = range(0, 3)\n",
    "q_values = range(0, 3)\n",
    "evaluate_models(train.values, p_values, d_values, q_values)"
   ]
  },
  {
   "cell_type": "markdown",
   "id": "57b8a9bf",
   "metadata": {},
   "source": [
    "## <font color= red> FINAL MODEL.</font>"
   ]
  },
  {
   "cell_type": "code",
   "execution_count": 98,
   "id": "15ac7dd8",
   "metadata": {},
   "outputs": [
    {
     "name": "stdout",
     "output_type": "stream",
     "text": [
      "Dataset 20, Validation 9\n"
     ]
    }
   ],
   "source": [
    "# separate out a validation dataset\n",
    "size = int(np.round(len(forecast_train)*0.70,))\n",
    "\n",
    "train_data = forecast_train[:size]\n",
    "test_data = forecast_train[size:]\n",
    "print('Dataset %d, Validation %d' % (len(train_data), len(test_data)))"
   ]
  },
  {
   "cell_type": "code",
   "execution_count": 99,
   "id": "b5bd949e",
   "metadata": {},
   "outputs": [
    {
     "data": {
      "text/html": [
       "<table class=\"simpletable\">\n",
       "<caption>SARIMAX Results</caption>\n",
       "<tr>\n",
       "  <th>Dep. Variable:</th>         <td>Sales</td>      <th>  No. Observations:  </th>    <td>20</td>   \n",
       "</tr>\n",
       "<tr>\n",
       "  <th>Model:</th>            <td>ARIMA(2, 2, 1)</td>  <th>  Log Likelihood     </th> <td>-130.551</td>\n",
       "</tr>\n",
       "<tr>\n",
       "  <th>Date:</th>            <td>Thu, 29 Sep 2022</td> <th>  AIC                </th>  <td>269.102</td>\n",
       "</tr>\n",
       "<tr>\n",
       "  <th>Time:</th>                <td>23:52:11</td>     <th>  BIC                </th>  <td>272.664</td>\n",
       "</tr>\n",
       "<tr>\n",
       "  <th>Sample:</th>             <td>01-01-1986</td>    <th>  HQIC               </th>  <td>269.593</td>\n",
       "</tr>\n",
       "<tr>\n",
       "  <th></th>                   <td>- 10-01-1990</td>   <th>                     </th>     <td> </td>   \n",
       "</tr>\n",
       "<tr>\n",
       "  <th>Covariance Type:</th>        <td>opg</td>       <th>                     </th>     <td> </td>   \n",
       "</tr>\n",
       "</table>\n",
       "<table class=\"simpletable\">\n",
       "<tr>\n",
       "     <td></td>       <th>coef</th>     <th>std err</th>      <th>z</th>      <th>P>|z|</th>  <th>[0.025</th>    <th>0.975]</th>  \n",
       "</tr>\n",
       "<tr>\n",
       "  <th>ar.L1</th>  <td>   -0.2319</td> <td>    0.282</td> <td>   -0.822</td> <td> 0.411</td> <td>   -0.785</td> <td>    0.321</td>\n",
       "</tr>\n",
       "<tr>\n",
       "  <th>ar.L2</th>  <td>   -0.4218</td> <td>    0.444</td> <td>   -0.949</td> <td> 0.342</td> <td>   -1.292</td> <td>    0.449</td>\n",
       "</tr>\n",
       "<tr>\n",
       "  <th>ma.L1</th>  <td>   -1.0000</td> <td>    0.501</td> <td>   -1.998</td> <td> 0.046</td> <td>   -1.981</td> <td>   -0.019</td>\n",
       "</tr>\n",
       "<tr>\n",
       "  <th>sigma2</th> <td> 8.586e+04</td> <td> 5.83e-06</td> <td> 1.47e+10</td> <td> 0.000</td> <td> 8.59e+04</td> <td> 8.59e+04</td>\n",
       "</tr>\n",
       "</table>\n",
       "<table class=\"simpletable\">\n",
       "<tr>\n",
       "  <th>Ljung-Box (L1) (Q):</th>     <td>0.09</td> <th>  Jarque-Bera (JB):  </th> <td>0.22</td> \n",
       "</tr>\n",
       "<tr>\n",
       "  <th>Prob(Q):</th>                <td>0.76</td> <th>  Prob(JB):          </th> <td>0.90</td> \n",
       "</tr>\n",
       "<tr>\n",
       "  <th>Heteroskedasticity (H):</th> <td>0.33</td> <th>  Skew:              </th> <td>-0.26</td>\n",
       "</tr>\n",
       "<tr>\n",
       "  <th>Prob(H) (two-sided):</th>    <td>0.20</td> <th>  Kurtosis:          </th> <td>2.85</td> \n",
       "</tr>\n",
       "</table><br/><br/>Warnings:<br/>[1] Covariance matrix calculated using the outer product of gradients (complex-step).<br/>[2] Covariance matrix is singular or near-singular, with condition number 2.42e+25. Standard errors may be unstable."
      ],
      "text/plain": [
       "<class 'statsmodels.iolib.summary.Summary'>\n",
       "\"\"\"\n",
       "                               SARIMAX Results                                \n",
       "==============================================================================\n",
       "Dep. Variable:                  Sales   No. Observations:                   20\n",
       "Model:                 ARIMA(2, 2, 1)   Log Likelihood                -130.551\n",
       "Date:                Thu, 29 Sep 2022   AIC                            269.102\n",
       "Time:                        23:52:11   BIC                            272.664\n",
       "Sample:                    01-01-1986   HQIC                           269.593\n",
       "                         - 10-01-1990                                         \n",
       "Covariance Type:                  opg                                         \n",
       "==============================================================================\n",
       "                 coef    std err          z      P>|z|      [0.025      0.975]\n",
       "------------------------------------------------------------------------------\n",
       "ar.L1         -0.2319      0.282     -0.822      0.411      -0.785       0.321\n",
       "ar.L2         -0.4218      0.444     -0.949      0.342      -1.292       0.449\n",
       "ma.L1         -1.0000      0.501     -1.998      0.046      -1.981      -0.019\n",
       "sigma2      8.586e+04   5.83e-06   1.47e+10      0.000    8.59e+04    8.59e+04\n",
       "===================================================================================\n",
       "Ljung-Box (L1) (Q):                   0.09   Jarque-Bera (JB):                 0.22\n",
       "Prob(Q):                              0.76   Prob(JB):                         0.90\n",
       "Heteroskedasticity (H):               0.33   Skew:                            -0.26\n",
       "Prob(H) (two-sided):                  0.20   Kurtosis:                         2.85\n",
       "===================================================================================\n",
       "\n",
       "Warnings:\n",
       "[1] Covariance matrix calculated using the outer product of gradients (complex-step).\n",
       "[2] Covariance matrix is singular or near-singular, with condition number 2.42e+25. Standard errors may be unstable.\n",
       "\"\"\""
      ]
     },
     "execution_count": 99,
     "metadata": {},
     "output_type": "execute_result"
    }
   ],
   "source": [
    "model = ARIMA(train_data,order=(2, 2, 1))\n",
    "results = model.fit()\n",
    "results.summary()"
   ]
  },
  {
   "cell_type": "markdown",
   "id": "237c7106",
   "metadata": {},
   "source": [
    "## <font color= red> USE MODEL TO PREDICT.</font>"
   ]
  },
  {
   "cell_type": "code",
   "execution_count": 103,
   "id": "8048bbf5",
   "metadata": {},
   "outputs": [],
   "source": [
    "# Obtain predicted values\n",
    "start=len(train_data)\n",
    "end=len(forecast_train)-1\n",
    "predictions = results.predict(start=start, end=end, dynamic=False, typ='levels')\n",
    "predictions = predictions.rename('ARIMA(2,2,1) Predictions')"
   ]
  },
  {
   "cell_type": "code",
   "execution_count": 118,
   "id": "0f1da995",
   "metadata": {},
   "outputs": [
    {
     "name": "stdout",
     "output_type": "stream",
     "text": [
      "predicted=2655.862817, expected=2480.9739990234375\n",
      "predicted=2800.047805, expected=3039.522994995117\n",
      "predicted=2791.987866, expected=3172.115997314453\n",
      "predicted=2800.536935, expected=2879.0009994506836\n",
      "predicted=2869.445491, expected=2772.0\n",
      "predicted=2917.3512, expected=3550.0\n",
      "predicted=2944.670236, expected=3508.0\n",
      "predicted=2985.621683, expected=3243.859992980957\n",
      "predicted=3032.094369, expected=3056.0\n"
     ]
    }
   ],
   "source": [
    "# Compare predictions to expected values\n",
    "for i in range(len(test_data)):\n",
    "    print(f\"predicted={predictions[i]:<.10}, expected={test_data[i]}\")"
   ]
  },
  {
   "cell_type": "markdown",
   "id": "33d0fe3d",
   "metadata": {},
   "source": [
    "## <font color= red> MODEL EVALUATION.</font>\n",
    "#### RMSE (Root Mean Squared Error)"
   ]
  },
  {
   "cell_type": "code",
   "execution_count": 119,
   "id": "8eb746e9",
   "metadata": {},
   "outputs": [
    {
     "data": {
      "text/plain": [
       "338.78"
      ]
     },
     "execution_count": 119,
     "metadata": {},
     "output_type": "execute_result"
    }
   ],
   "source": [
    "from statsmodels.tools.eval_measures import rmse\n",
    "\n",
    "rmse_arima = rmse(test_data, predictions)\n",
    "rmse_arima.round(2)"
   ]
  },
  {
   "cell_type": "markdown",
   "id": "64fffbf3",
   "metadata": {},
   "source": [
    "## <font color= red> VALIDATION.</font>"
   ]
  },
  {
   "cell_type": "code",
   "execution_count": 120,
   "id": "7106879b",
   "metadata": {},
   "outputs": [
    {
     "data": {
      "text/html": [
       "<div>\n",
       "<style scoped>\n",
       "    .dataframe tbody tr th:only-of-type {\n",
       "        vertical-align: middle;\n",
       "    }\n",
       "\n",
       "    .dataframe tbody tr th {\n",
       "        vertical-align: top;\n",
       "    }\n",
       "\n",
       "    .dataframe thead th {\n",
       "        text-align: right;\n",
       "    }\n",
       "</style>\n",
       "<table border=\"1\" class=\"dataframe\">\n",
       "  <thead>\n",
       "    <tr style=\"text-align: right;\">\n",
       "      <th></th>\n",
       "      <th>MODEL</th>\n",
       "      <th>RMSE_Values</th>\n",
       "    </tr>\n",
       "  </thead>\n",
       "  <tbody>\n",
       "    <tr>\n",
       "      <th>7</th>\n",
       "      <td>ARIMA_Model</td>\n",
       "      <td>338.776807</td>\n",
       "    </tr>\n",
       "    <tr>\n",
       "      <th>2</th>\n",
       "      <td>Quadratic Model</td>\n",
       "      <td>371.294183</td>\n",
       "    </tr>\n",
       "    <tr>\n",
       "      <th>6</th>\n",
       "      <td>Multiplicative Additive Seasonality Model</td>\n",
       "      <td>396.419782</td>\n",
       "    </tr>\n",
       "    <tr>\n",
       "      <th>1</th>\n",
       "      <td>Expotential Model</td>\n",
       "      <td>530.326803</td>\n",
       "    </tr>\n",
       "    <tr>\n",
       "      <th>4</th>\n",
       "      <td>Additive Seasonality Quadratic Model</td>\n",
       "      <td>613.825829</td>\n",
       "    </tr>\n",
       "    <tr>\n",
       "      <th>0</th>\n",
       "      <td>Linear Model</td>\n",
       "      <td>686.874086</td>\n",
       "    </tr>\n",
       "    <tr>\n",
       "      <th>3</th>\n",
       "      <td>Additive Seasonality Model</td>\n",
       "      <td>1837.787972</td>\n",
       "    </tr>\n",
       "    <tr>\n",
       "      <th>5</th>\n",
       "      <td>Multiplicative Seasonality Model</td>\n",
       "      <td>1904.794417</td>\n",
       "    </tr>\n",
       "  </tbody>\n",
       "</table>\n",
       "</div>"
      ],
      "text/plain": [
       "                                       MODEL  RMSE_Values\n",
       "7                                ARIMA_Model   338.776807\n",
       "2                            Quadratic Model   371.294183\n",
       "6  Multiplicative Additive Seasonality Model   396.419782\n",
       "1                          Expotential Model   530.326803\n",
       "4       Additive Seasonality Quadratic Model   613.825829\n",
       "0                               Linear Model   686.874086\n",
       "3                 Additive Seasonality Model  1837.787972\n",
       "5           Multiplicative Seasonality Model  1904.794417"
      ]
     },
     "execution_count": 120,
     "metadata": {},
     "output_type": "execute_result"
    }
   ],
   "source": [
    "#Compare the results \n",
    "\n",
    "data = {\"MODEL\":pd.Series([\"Linear Model\",\"Expotential Model\",\"Quadratic Model\",\"Additive Seasonality Model\",\"Additive Seasonality Quadratic Model\",\n",
    "                           \"Multiplicative Seasonality Model\",\"Multiplicative Additive Seasonality Model\",\"ARIMA_Model\"]),\n",
    "        \"RMSE_Values\":pd.Series([rmse_linear,rmse_Exp,rmse_Quad,rmse_add_sea,rmse_add_sea_quad,rmse_Mult_sea,rmse_Mult_add_sea,rmse_arima])} \n",
    "table_rmse = pd.DataFrame(data)\n",
    "table_rmse.sort_values(['RMSE_Values'])"
   ]
  }
 ],
 "metadata": {
  "kernelspec": {
   "display_name": "Python 3 (ipykernel)",
   "language": "python",
   "name": "python3"
  },
  "language_info": {
   "codemirror_mode": {
    "name": "ipython",
    "version": 3
   },
   "file_extension": ".py",
   "mimetype": "text/x-python",
   "name": "python",
   "nbconvert_exporter": "python",
   "pygments_lexer": "ipython3",
   "version": "3.9.12"
  }
 },
 "nbformat": 4,
 "nbformat_minor": 5
}
